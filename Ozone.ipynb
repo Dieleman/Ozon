{
 "cells": [
  {
   "cell_type": "markdown",
   "metadata": {},
   "source": [
    "# Dit jupyter notebook is een voorbeeld van hoe je Ozon rates kunt berekenen en visualiseren op een simpele manier in Python. "
   ]
  },
  {
   "cell_type": "markdown",
   "metadata": {},
   "source": [
    "Ik gebruik scipy voor de differentiaalvergelijking (ODE) oplossen. Je zou ook al meteen een specifiek chemische python module kunnen gebruiken die deze functionaliteit al heeft, maar dan is het helemaal geen uitdaging meer.. Bovendien is dit wat inzichtelijker denk ik en breek toepasbaar voor andere dynamiek met gekoppelde differentiaalvergelijkingen (bv gekoppelde slingers e.d.)"
   ]
  },
  {
   "cell_type": "markdown",
   "metadata": {},
   "source": [
    "Eerst de gebruikte pythonmodules laden. "
   ]
  },
  {
   "cell_type": "code",
   "execution_count": null,
   "metadata": {},
   "outputs": [],
   "source": [
    "import sympy as sym\n",
    "import numpy as np\n",
    "from scipy.integrate import odeint\n",
    "sym.init_printing()\n",
    "import matplotlib.pyplot as plt\n",
    "%matplotlib inline"
   ]
  },
  {
   "cell_type": "markdown",
   "metadata": {},
   "source": [
    "# Eerst zonder symbolische functie"
   ]
  },
  {
   "cell_type": "markdown",
   "metadata": {},
   "source": [
    "Via de sympy module kun je symbolische wiskunde gebruiken ipv numeriek. Integreren en differentieren e.d. gaat dan symbolisch ipv met array's met nummers. Dit kan in vele gevallen veel efficienter zijn en ook meer vergelijkbaar met hoe je het normaal zelf zou doen.\n",
    "\n",
    "Eerst doe ik de numerieke methode"
   ]
  },
  {
   "cell_type": "code",
   "execution_count": 228,
   "metadata": {},
   "outputs": [],
   "source": [
    "# Chapman cycle\n",
    "def rate_eq(y, t, M, k1,k2,k3,k4):\n",
    "    O = y[0]\n",
    "    O2 = y[1]\n",
    "    O3 = y[2]\n",
    "    dO = 2 * k1 * O2 + k3 * O3 - k2 * O * O2 * M - k4*O*O3\n",
    "    dO2 = k3 * O3 + 2 * k4 * O*O3 - k1 * O2 - k2 * O * O2 * M\n",
    "    dO3 = k2 * O * O2 * M - k3*O3 - k4 * O * O3\n",
    "    return [dO,dO2,dO3]"
   ]
  },
  {
   "cell_type": "markdown",
   "metadata": {},
   "source": [
    "Deze onderstaande constante waarden veranderen per hoogte. Ik pak nu maar 1 hoogte, maar het is triviaal om dit uit te breiden voor vergelijkingen per hoogte\n"
   ]
  },
  {
   "cell_type": "code",
   "execution_count": 230,
   "metadata": {},
   "outputs": [],
   "source": [
    "# M voor interactie met omgeving\n",
    "M_val = 9e17\n",
    "\n",
    "# K voor de rate constanten k_vals [ k1, k2, k3, etc..]\n",
    "k_vals = [3e-12,1.22e-33,5.5e-4,6.86e-16]\n",
    "\n",
    "# y0 zijn de initiele waarden van de atmosfeer op tijd 0. We beginnen dus met alleen O2 in onstaande array\n",
    "# y0 = [O_0, O2_0, O3_0]\n",
    "y0 = [0, 0.21*M_val, 0.0]\n"
   ]
  },
  {
   "cell_type": "code",
   "execution_count": 231,
   "metadata": {},
   "outputs": [
    {
     "name": "stdout",
     "output_type": "stream",
     "text": [
      "Final State concentrations:\n",
      "O: 4.68E+07\n",
      "O_2: 1.89E+17\n",
      "O_3: 1.77E+13\n"
     ]
    },
    {
     "data": {
      "image/png": "[encoded data removed]",
      "text/plain": [
       "<Figure size 432x288 with 1 Axes>"
      ]
     },
     "metadata": {
      "needs_background": "light"
     },
     "output_type": "display_data"
    }
   ],
   "source": [
    "# Tijd om over te berekenen, 1e8 seconden, ongeveer 3 jaar\n",
    "tout = np.linspace(0, 1e8,10001)\n",
    "\n",
    "# Hier is het oplossen van de ODE\n",
    "result = odeint(rate_eq, y0, tout, args=(M_val,*k_vals))\n",
    "\n",
    "# Plot het resultaat\n",
    "ax= plt.plot(tout/(365*24*3600), result)\n",
    "_ = plt.legend(['O', 'O$_2$', '$O_3$'])\n",
    "plt.semilogy()\n",
    "plt.xlabel(\"Jaar\")\n",
    "\n",
    "# Print de laatste array waarde, we gaan er hier vanuit dat dit de constante waarde heeft bereikt\n",
    "print(\"Final State concentrations:\\nO: %.2E\\nO_2: %.2E\\nO_3: %.2E\" % (result[-1][0],result[-1][1],result[-1][2]))"
   ]
  },
  {
   "cell_type": "markdown",
   "metadata": {},
   "source": [
    "# Met symbolische functies in sympy ipv numeriek"
   ]
  },
  {
   "cell_type": "code",
   "execution_count": 232,
   "metadata": {},
   "outputs": [],
   "source": [
    "y, M, k = sym.symbols('O O_2 O_3'), sym.symbols('M'), sym.symbols('k_1 k_2 k_3 k_4')"
   ]
  },
  {
   "cell_type": "code",
   "execution_count": 233,
   "metadata": {},
   "outputs": [
    {
     "data": {
      "image/png": "[encoded data removed]",
      "text/latex": [
       "$$\\left [ - M O O_{2} k_{2} - O O_{3} k_{4} + 2 O_{2} k_{1} + O_{3} k_{3}, \\quad - M O O_{2} k_{2} + 2 O O_{3} k_{4} - O_{2} k_{1} + O_{3} k_{3}, \\quad M O O_{2} k_{2} - O O_{3} k_{4} - O_{3} k_{3}\\right ]$$"
      ],
      "text/plain": [
       "[-M⋅O⋅O₂⋅k₂ - O⋅O₃⋅k₄ + 2⋅O₂⋅k₁ + O₃⋅k₃, -M⋅O⋅O₂⋅k₂ + 2⋅O⋅O₃⋅k₄ - O₂⋅k₁ + O₃⋅k\n",
       "₃, M⋅O⋅O₂⋅k₂ - O⋅O₃⋅k₄ - O₃⋅k₃]"
      ]
     },
     "execution_count": 233,
     "metadata": {},
     "output_type": "execute_result"
    }
   ],
   "source": [
    "t = sym.symbols('t')  \n",
    "f = sym.lambdify((y, t,M) + k, rate_eq(y,None,M,*k),dummify=False)\n",
    "f(y,t,M,*k)"
   ]
  },
  {
   "cell_type": "markdown",
   "metadata": {},
   "source": [
    "Formule is in vorm van de chapmal cycle rate equation maar nu dus met symbolen "
   ]
  },
  {
   "cell_type": "code",
   "execution_count": 235,
   "metadata": {},
   "outputs": [
    {
     "name": "stdout",
     "output_type": "stream",
     "text": [
      "Final State concentrations:\n",
      "O: 4.68E+07\n",
      "O_2: 1.89E+17\n",
      "O_3: 1.77E+13\n"
     ]
    },
    {
     "data": {
      "image/png": "[encoded data removed]",
      "text/plain": [
       "<Figure size 432x288 with 1 Axes>"
      ]
     },
     "metadata": {
      "needs_background": "light"
     },
     "output_type": "display_data"
    }
   ],
   "source": [
    "# Doe weer hetzelfde als hierboven \n",
    "tout = np.linspace(0, 1e8,1000)\n",
    "\n",
    "# Nu geven we symbolische functie f mee \n",
    "result_sym = odeint(f, y0, tout, args=(M_val,*k_vals))\n",
    "ax= plt.plot(tout/(365*24*3600), result_sym)\n",
    "_ = plt.legend(['O', 'O$_2$', '$O_3$'])\n",
    "plt.semilogy()\n",
    "print(\"Final State concentrations:\\nO: %.2E\\nO_2: %.2E\\nO_3: %.2E\" % (result_sym[-1][0],result_sym[-1][1],result_sym[-1][2]))"
   ]
  },
  {
   "cell_type": "markdown",
   "metadata": {},
   "source": [
    "Resultaat is hetzelfde"
   ]
  },
  {
   "cell_type": "markdown",
   "metadata": {},
   "source": [
    "# Met CFC's die de boel vernagelen"
   ]
  },
  {
   "cell_type": "markdown",
   "metadata": {},
   "source": [
    "De zon kun je ook stuk maken met CFC's. Je kunt wat Frenon 12 in de atmosfeer gooien en kijken wat er gebeurt. Idee gejat van Gejat van: http://www.columbia.edu/itc/chemistry/chem-c2407/hw/ozone_kinetics.pdf zie daar ook voor meer info over hoe Frenon_12 in Cl en ClO uit elkaar valt"
   ]
  },
  {
   "cell_type": "code",
   "execution_count": 236,
   "metadata": {},
   "outputs": [],
   "source": [
    "# 3 exgtra rate constanten zijn erbij gekomen (k5,k6,k7) \n",
    "def rate_eq_with_CFC(y, t, M, k1,k2,k3,k4,k5,k6,k7):\n",
    "    O = y[0]\n",
    "    O2 = y[1]\n",
    "    O3 = y[2]\n",
    "    ClO = y[3]\n",
    "    Cl = y[4]\n",
    "    Cf2Cl2 = y[5]\n",
    "    dO = 2 * k1 * O2 + k3 * O3 - k2 * O * O2 * M - k4*O*O3 - k7*ClO*O\n",
    "    # Heb dO2 niet veranderd, is toch vrijwel constant\n",
    "    dO2 = k3 * O3 + 2 * k4 * O*O3 - k1 * O2 - k2 * O * O2 * M\n",
    "    dO3 = k2 * O * O2 * M - k3*O3 - k4 * O * O3 - k6*Cl * O3\n",
    "    dCf2Cl2 = -k5*Cf2Cl2\n",
    "    dCl = k5*Cf2Cl2-k6*Cl*O3+k7*ClO*O\n",
    "    dClO = k6*Cl*O3-k7*ClO*O\n",
    "    return [dO,dO2,dO3,dClO,dCl,dCf2Cl2]"
   ]
  },
  {
   "cell_type": "code",
   "execution_count": 237,
   "metadata": {},
   "outputs": [
    {
     "data": {
      "image/png": "[encoded data removed]",
      "text/latex": [
       "$$\\left [ - ClO O k_{7} - M O O_{2} k_{2} - O O_{3} k_{4} + 2 O_{2} k_{1} + O_{3} k_{3}, \\quad - M O O_{2} k_{2} + 2 O O_{3} k_{4} - O_{2} k_{1} + O_{3} k_{3}, \\quad - Cl O_{3} k_{6} + M O O_{2} k_{2} - O O_{3} k_{4} - O_{3} k_{3}, \\quad Cl O_{3} k_{6} - ClO O k_{7}, \\quad Cf_{2Cl 2} k_{5} - Cl O_{3} k_{6} + ClO O k_{7}, \\quad - Cf_{2Cl 2} k_{5}\\right ]$$"
      ],
      "text/plain": [
       "[-ClO⋅O⋅k₇ - M⋅O⋅O₂⋅k₂ - O⋅O₃⋅k₄ + 2⋅O₂⋅k₁ + O₃⋅k₃, -M⋅O⋅O₂⋅k₂ + 2⋅O⋅O₃⋅k₄ - O\n",
       "₂⋅k₁ + O₃⋅k₃, -Cl⋅O₃⋅k₆ + M⋅O⋅O₂⋅k₂ - O⋅O₃⋅k₄ - O₃⋅k₃, Cl⋅O₃⋅k₆ - ClO⋅O⋅k₇, Cf\n",
       "_2Cl_2⋅k₅ - Cl⋅O₃⋅k₆ + ClO⋅O⋅k₇, -Cf_2Cl_2⋅k₅]"
      ]
     },
     "execution_count": 237,
     "metadata": {},
     "output_type": "execute_result"
    }
   ],
   "source": [
    "# Waarden voor nieuwe constanten komen uit de bovenstaande pdf, is realistisch voor een bepaalde hoogte\n",
    "M_val = 9e17\n",
    "k_vals = [3e-12,1.22e-33,5.5e-4,6.86e-16,1e-7,2.1e-11,3.8e-11]\n",
    "y, M, k = sym.symbols('O O_2 O_3 ClO Cl Cf_2Cl_2'), sym.symbols('M'), sym.symbols('k_1 k_2 k_3 k_4 k_5 k_6 k_7')\n",
    "t = sym.symbols('t')  \n",
    "f = sym.lambdify((y, t,M) + k, rate_eq_with_CFC(y,None,M,*k),dummify=False)\n",
    "f(y,t,M,*k)"
   ]
  },
  {
   "cell_type": "markdown",
   "metadata": {},
   "source": [
    "Bereken eerst met GEEN Frenon_12"
   ]
  },
  {
   "cell_type": "code",
   "execution_count": 44,
   "metadata": {},
   "outputs": [
    {
     "name": "stdout",
     "output_type": "stream",
     "text": [
      "Final State concentrations:\n",
      "O: 4.68E+07\n",
      "O_2: 1.89E+17\n",
      "O_3: 1.77E+13\n",
      "ClO: 0.00E+00\n",
      "Cl: 0.00E+00\n",
      "Cf_2Cl_2:0.00E+00\n"
     ]
    },
    {
     "data": {
      "image/png": "[encoded data removed]",
      "text/plain": [
       "<Figure size 432x288 with 1 Axes>"
      ]
     },
     "metadata": {
      "needs_background": "light"
     },
     "output_type": "display_data"
    }
   ],
   "source": [
    "\n",
    "tout = np.linspace(0, 1e8,1000)\n",
    "Freon_12 = 0\n",
    "y0 = [0, 0.21*M_val, 0.0*M_val, 0, 0, Freon_12]\n",
    "result_sym = odeint(f, y0, tout, args=(M_val,*k_vals))\n",
    "ax= plt.plot(tout/(365*24*3600), result_sym)\n",
    "_ = plt.legend(['O', 'O$_2$', '$O_3$','$ClO$','Cl','$Cf_2Cl_2$'])\n",
    "plt.semilogy()\n",
    "print(\"Final State concentrations:\\nO: %.2E\\nO_2: %.2E\\nO_3: %.2E\\nClO: %.2E\\nCl: %.2E\\nCf_2Cl_2:%.2E\" % (result_sym[-1][0],result_sym[-1][1],result_sym[-1][2],result_sym[-1][3],result_sym[-1][4],result_sym[-1][5]))"
   ]
  },
  {
   "cell_type": "markdown",
   "metadata": {},
   "source": [
    "Resultaten zijn identiek, zoals verwacht, alles klopt dus nog (sanity check))"
   ]
  },
  {
   "cell_type": "markdown",
   "metadata": {},
   "source": [
    "Als we de resultaten van de vorige run als input nemen, maar we gooien er wat Frenon 12 tegenaan "
   ]
  },
  {
   "cell_type": "code",
   "execution_count": 239,
   "metadata": {},
   "outputs": [
    {
     "data": {
      "text/plain": [
       "array([4.68046629e+07, 1.88973515e+17, 1.00000000e+10])"
      ]
     },
     "execution_count": 239,
     "metadata": {},
     "output_type": "execute_result"
    }
   ],
   "source": [
    "y0 = result_sym[-1]\n",
    "Freon_12 = 1e10\n",
    "y0[-1] = Freon_12\n",
    "y0"
   ]
  },
  {
   "cell_type": "code",
   "execution_count": 56,
   "metadata": {},
   "outputs": [
    {
     "name": "stdout",
     "output_type": "stream",
     "text": [
      "Final State concentrations:\n",
      "O: 1.56E+06\n",
      "O_2: 1.89E+17\n",
      "O_3: 5.88E+11\n",
      "ClO: 9.57E+09\n",
      "Cl: 4.60E+04\n",
      "Cf_2Cl_2:4.27E+08\n"
     ]
    },
    {
     "data": {
      "image/png": "[encoded data removed]",
      "text/plain": [
       "<Figure size 432x288 with 1 Axes>"
      ]
     },
     "metadata": {
      "needs_background": "light"
     },
     "output_type": "display_data"
    }
   ],
   "source": [
    "tout = np.linspace(0, 365*24*3600*1,1000)\n",
    "result_cfc = odeint(f, y0, tout, args=(M_val,*k_vals))\n",
    "ax= plt.plot(tout/(365*24*3600), result_cfc)\n",
    "_ = plt.legend(['O', 'O$_2$', '$O_3$','$ClO$','Cl','$Cf_2Cl_2$'])\n",
    "plt.semilogy()\n",
    "print(\"Final State concentrations:\\nO: %.2E\\nO_2: %.2E\\nO_3: %.2E\\nClO: %.2E\\nCl: %.2E\\nCf_2Cl_2:%.2E\" % (result_cfc[-1][0],result_cfc[-1][1],result_cfc[-1][2],result_cfc[-1][3],result_cfc[-1][4],result_cfc[-1][5]))"
   ]
  },
  {
   "cell_type": "markdown",
   "metadata": {},
   "source": [
    " Nu is de Ozon voor altijd de lul, er moet nog een sink bij voor Cl. Volgens wikipedia kan 1 Cl ongevee 100000 interacties met Ozon aangaan voordat het uit de stratosfeer verdwijnt. Ik gebruik een random rate voor nu, maar dit kan je meenemen als je het serieus wil doen:"
   ]
  },
  {
   "cell_type": "code",
   "execution_count": 222,
   "metadata": {},
   "outputs": [
    {
     "name": "stdout",
     "output_type": "stream",
     "text": [
      "0.027777777777777776\n"
     ]
    }
   ],
   "source": [
    "#Cl removal rate:\n",
    "k8 = 1/(36)\n",
    "print(k8)"
   ]
  },
  {
   "cell_type": "code",
   "execution_count": 240,
   "metadata": {},
   "outputs": [],
   "source": [
    "def rate_eq_with_CFC_CfSink(y, t, M, k1,k2,k3,k4,k5,k6,k7,k8):\n",
    "    O = y[0]\n",
    "    O2 = y[1]\n",
    "    O3 = y[2]\n",
    "    ClO = y[3]\n",
    "    Cl = y[4]\n",
    "    Cf2Cl2 = y[5]\n",
    "    dO = 2 * k1 * O2 + k3 * O3 - k2 * O * O2 * M - k4*O*O3 - k7*ClO*O\n",
    "    # Heb dO2 niet veranderd, is toch vrijwel constant\n",
    "    dO2 = k3 * O3 + 2 * k4 * O*O3 - k1 * O2 - k2 * O * O2 * M\n",
    "    dO3 = k2 * O * O2 * M - k3*O3 - k4 * O * O3 - k6*Cl * O3\n",
    "    dCf2Cl2 = -k5*Cf2Cl2\n",
    "    dCl = k5*Cf2Cl2-k6*Cl*O3+k7*ClO*O-k8*Cl\n",
    "    dClO = k6*Cl*O3-k7*ClO*O\n",
    "    return [dO,dO2,dO3,dClO,dCl,dCf2Cl2]"
   ]
  },
  {
   "cell_type": "code",
   "execution_count": 241,
   "metadata": {},
   "outputs": [
    {
     "data": {
      "image/png": "[encoded data removed]",
      "text/latex": [
       "$$\\left [ - ClO O k_{7} - M O O_{2} k_{2} - O O_{3} k_{4} + 2 O_{2} k_{1} + O_{3} k_{3}, \\quad - M O O_{2} k_{2} + 2 O O_{3} k_{4} - O_{2} k_{1} + O_{3} k_{3}, \\quad - Cl O_{3} k_{6} + M O O_{2} k_{2} - O O_{3} k_{4} - O_{3} k_{3}, \\quad Cl O_{3} k_{6} - ClO O k_{7}, \\quad Cf_{2Cl 2} k_{5} - Cl O_{3} k_{6} - Cl k_{8} + ClO O k_{7}, \\quad - Cf_{2Cl 2} k_{5}\\right ]$$"
      ],
      "text/plain": [
       "[-ClO⋅O⋅k₇ - M⋅O⋅O₂⋅k₂ - O⋅O₃⋅k₄ + 2⋅O₂⋅k₁ + O₃⋅k₃, -M⋅O⋅O₂⋅k₂ + 2⋅O⋅O₃⋅k₄ - O\n",
       "₂⋅k₁ + O₃⋅k₃, -Cl⋅O₃⋅k₆ + M⋅O⋅O₂⋅k₂ - O⋅O₃⋅k₄ - O₃⋅k₃, Cl⋅O₃⋅k₆ - ClO⋅O⋅k₇, Cf\n",
       "_2Cl_2⋅k₅ - Cl⋅O₃⋅k₆ - Cl⋅k₈ + ClO⋅O⋅k₇, -Cf_2Cl_2⋅k₅]"
      ]
     },
     "execution_count": 241,
     "metadata": {},
     "output_type": "execute_result"
    }
   ],
   "source": [
    "M_val = 9e17\n",
    "k_vals = [3e-12,1.22e-33,5.5e-4,6.86e-16,1e-7,2.1e-11,3.8e-11,k8]\n",
    "y, M, k = sym.symbols('O O_2 O_3 ClO Cl Cf_2Cl_2'), sym.symbols('M'), sym.symbols('k_1 k_2 k_3 k_4 k_5 k_6 k_7 k_8')\n",
    "t = sym.symbols('t')  \n",
    "f = sym.lambdify((y, t,M) + k, rate_eq_with_CFC_CfSink(y,None,M,*k),dummify=False)\n",
    "f(y,t,M,*k)"
   ]
  },
  {
   "cell_type": "code",
   "execution_count": 242,
   "metadata": {},
   "outputs": [],
   "source": [
    "tout = np.linspace(0, 1e8,1000)\n",
    "Freon_12 = 0\n",
    "y0 = [0, 0.21*M_val, 0.0*M_val, 0, 0, Freon_12]\n",
    "resultWithoutCFC = odeint(f, y0, tout, args=(M_val,*k_vals))\n",
    "# print(\"Final State concentrations:\\nO: %.2E\\nO_2: %.2E\\nO_3: %.2E\\nClO: %.2E\\nCl: %.2E\\nCf_2Cl_2:%.2E\" % (resultWithoutCFC[-1][0],resultWithoutCFC[-1][1],resultWithoutCFC[-1][2],resultWithoutCFC[-1][3],resultWithoutCFC[-1][4],resultWithoutCFC[-1][5]))\n",
    "# add Frenon 12:\n",
    "y0 = resultWithoutCFC[-1]\n",
    "Freon_12 = 1e10\n",
    "y0[-1] = Freon_12\n",
    "resultWithCFC = odeint(f, y0, tout, args=(M_val,*k_vals))"
   ]
  },
  {
   "cell_type": "code",
   "execution_count": 243,
   "metadata": {},
   "outputs": [
    {
     "name": "stdout",
     "output_type": "stream",
     "text": [
      "Final State concentrations:\n",
      "O: 4.65E+07\n",
      "O_2: 1.89E+17\n",
      "O_3: 1.75E+13\n",
      "ClO: 1.32E+06\n",
      "Cl: 6.31E+00\n",
      "Cf_2Cl_2:4.54E+05\n"
     ]
    },
    {
     "data": {
      "image/png": "[encoded data removed]",
      "text/plain": [
       "<Figure size 432x288 with 1 Axes>"
      ]
     },
     "metadata": {
      "needs_background": "light"
     },
     "output_type": "display_data"
    }
   ],
   "source": [
    "ax= plt.plot(tout/(365*24*3600), resultWithCFC)\n",
    "_ = plt.legend(['O', 'O$_2$', '$O_3$','$ClO$','Cl','$Cf_2Cl_2$'])\n",
    "plt.semilogy()\n",
    "print(\"Final State concentrations:\\nO: %.2E\\nO_2: %.2E\\nO_3: %.2E\\nClO: %.2E\\nCl: %.2E\\nCf_2Cl_2:%.2E\" % (resultWithCFC[-1][0],resultWithCFC[-1][1],resultWithCFC[-1][2],resultWithCFC[-1][3],resultWithCFC[-1][4],resultWithCFC[-1][5]))"
   ]
  },
  {
   "cell_type": "markdown",
   "metadata": {},
   "source": [
    "Een dip in Ozon maar herstelt zich meer naarmate Cl verdwijnt uit de stratosfeer. Gebruikte hoeveelheid Frenon12 en Cl sink rate zijn volledig willekeurig en waarschijnlijk volstrekte onzin btw maar het idee klopt wel"
   ]
  },
  {
   "cell_type": "code",
   "execution_count": null,
   "metadata": {},
   "outputs": [],
   "source": []
  }
 ],
 "metadata": {
  "kernelspec": {
   "display_name": "Python 3",
   "language": "python",
   "name": "python3"
  },
  "language_info": {
   "codemirror_mode": {
    "name": "ipython",
    "version": 3
   },
   "file_extension": ".py",
   "mimetype": "text/x-python",
   "name": "python",
   "nbconvert_exporter": "python",
   "pygments_lexer": "ipython3",
   "version": "3.7.0"
  }
 },
 "nbformat": 4,
 "nbformat_minor": 2
}
